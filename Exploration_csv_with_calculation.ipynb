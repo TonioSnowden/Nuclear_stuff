{
 "cells": [
  {
   "cell_type": "code",
   "execution_count": 2,
   "id": "874c38ad-cc1c-4837-b1a8-f576bfa76098",
   "metadata": {},
   "outputs": [],
   "source": [
    "import pandas as pd\n",
    "\n",
    "df = pd.read_csv(\"df_converted_fuel_with_half_life.csv\")"
   ]
  },
  {
   "cell_type": "code",
   "execution_count": 3,
   "id": "eb8672d7-68b1-4f1c-8690-1e91141812f2",
   "metadata": {},
   "outputs": [
    {
     "data": {
      "text/html": [
       "<div>\n",
       "<style scoped>\n",
       "    .dataframe tbody tr th:only-of-type {\n",
       "        vertical-align: middle;\n",
       "    }\n",
       "\n",
       "    .dataframe tbody tr th {\n",
       "        vertical-align: top;\n",
       "    }\n",
       "\n",
       "    .dataframe thead th {\n",
       "        text-align: right;\n",
       "    }\n",
       "</style>\n",
       "<table border=\"1\" class=\"dataframe\">\n",
       "  <thead>\n",
       "    <tr style=\"text-align: right;\">\n",
       "      <th></th>\n",
       "      <th>IE</th>\n",
       "      <th>BU</th>\n",
       "      <th>CT</th>\n",
       "      <th>FMI</th>\n",
       "      <th>fuel_TOT_GS</th>\n",
       "      <th>fuel_TOT_DH</th>\n",
       "      <th>fuel_TOT_A</th>\n",
       "      <th>AN</th>\n",
       "      <th>SF</th>\n",
       "      <th>fuel_value</th>\n",
       "      <th>fuel_density_half_life</th>\n",
       "    </tr>\n",
       "  </thead>\n",
       "  <tbody>\n",
       "    <tr>\n",
       "      <th>0</th>\n",
       "      <td>10.0</td>\n",
       "      <td>0.0</td>\n",
       "      <td>0.0</td>\n",
       "      <td>0</td>\n",
       "      <td>1.794450e+12</td>\n",
       "      <td>9.92946</td>\n",
       "      <td>1.285680e+13</td>\n",
       "      <td>0.8384</td>\n",
       "      <td>0.02793</td>\n",
       "      <td>{'F19': 1.19531, 'Na23': 0.396987, 'K39': 0.26...</td>\n",
       "      <td>{'F19': 1.19531, 'Na23': 0.396987, 'K39': 0.26...</td>\n",
       "    </tr>\n",
       "    <tr>\n",
       "      <th>1</th>\n",
       "      <td>10.0</td>\n",
       "      <td>0.0</td>\n",
       "      <td>0.0</td>\n",
       "      <td>1</td>\n",
       "      <td>1.794450e+12</td>\n",
       "      <td>9.92946</td>\n",
       "      <td>1.285680e+13</td>\n",
       "      <td>0.8384</td>\n",
       "      <td>0.02793</td>\n",
       "      <td>{'F19': 1.19531, 'Na23': 0.396987, 'K39': 0.26...</td>\n",
       "      <td>{'F19': 1.19531, 'Na23': 0.396987, 'K39': 0.26...</td>\n",
       "    </tr>\n",
       "    <tr>\n",
       "      <th>2</th>\n",
       "      <td>10.0</td>\n",
       "      <td>0.0</td>\n",
       "      <td>0.0</td>\n",
       "      <td>2</td>\n",
       "      <td>1.794450e+12</td>\n",
       "      <td>9.92946</td>\n",
       "      <td>1.285680e+13</td>\n",
       "      <td>0.8384</td>\n",
       "      <td>0.02793</td>\n",
       "      <td>{'F19': 1.19531, 'Na23': 0.396987, 'K39': 0.26...</td>\n",
       "      <td>{'F19': 1.19531, 'Na23': 0.396987, 'K39': 0.26...</td>\n",
       "    </tr>\n",
       "    <tr>\n",
       "      <th>3</th>\n",
       "      <td>10.0</td>\n",
       "      <td>0.0</td>\n",
       "      <td>0.0</td>\n",
       "      <td>3</td>\n",
       "      <td>1.794450e+12</td>\n",
       "      <td>9.92946</td>\n",
       "      <td>1.285680e+13</td>\n",
       "      <td>0.8384</td>\n",
       "      <td>0.02793</td>\n",
       "      <td>{'F19': 1.19531, 'Na23': 0.396987, 'K39': 0.26...</td>\n",
       "      <td>{'F19': 1.19531, 'Na23': 0.396987, 'K39': 0.26...</td>\n",
       "    </tr>\n",
       "    <tr>\n",
       "      <th>4</th>\n",
       "      <td>10.0</td>\n",
       "      <td>0.0</td>\n",
       "      <td>0.0</td>\n",
       "      <td>4</td>\n",
       "      <td>1.794450e+12</td>\n",
       "      <td>9.92946</td>\n",
       "      <td>1.285680e+13</td>\n",
       "      <td>0.8384</td>\n",
       "      <td>0.02793</td>\n",
       "      <td>{'F19': 1.19531, 'Na23': 0.396987, 'K39': 0.26...</td>\n",
       "      <td>{'F19': 1.19531, 'Na23': 0.396987, 'K39': 0.26...</td>\n",
       "    </tr>\n",
       "  </tbody>\n",
       "</table>\n",
       "</div>"
      ],
      "text/plain": [
       "     IE   BU   CT  FMI   fuel_TOT_GS  fuel_TOT_DH    fuel_TOT_A      AN  \\\n",
       "0  10.0  0.0  0.0    0  1.794450e+12      9.92946  1.285680e+13  0.8384   \n",
       "1  10.0  0.0  0.0    1  1.794450e+12      9.92946  1.285680e+13  0.8384   \n",
       "2  10.0  0.0  0.0    2  1.794450e+12      9.92946  1.285680e+13  0.8384   \n",
       "3  10.0  0.0  0.0    3  1.794450e+12      9.92946  1.285680e+13  0.8384   \n",
       "4  10.0  0.0  0.0    4  1.794450e+12      9.92946  1.285680e+13  0.8384   \n",
       "\n",
       "        SF                                         fuel_value  \\\n",
       "0  0.02793  {'F19': 1.19531, 'Na23': 0.396987, 'K39': 0.26...   \n",
       "1  0.02793  {'F19': 1.19531, 'Na23': 0.396987, 'K39': 0.26...   \n",
       "2  0.02793  {'F19': 1.19531, 'Na23': 0.396987, 'K39': 0.26...   \n",
       "3  0.02793  {'F19': 1.19531, 'Na23': 0.396987, 'K39': 0.26...   \n",
       "4  0.02793  {'F19': 1.19531, 'Na23': 0.396987, 'K39': 0.26...   \n",
       "\n",
       "                              fuel_density_half_life  \n",
       "0  {'F19': 1.19531, 'Na23': 0.396987, 'K39': 0.26...  \n",
       "1  {'F19': 1.19531, 'Na23': 0.396987, 'K39': 0.26...  \n",
       "2  {'F19': 1.19531, 'Na23': 0.396987, 'K39': 0.26...  \n",
       "3  {'F19': 1.19531, 'Na23': 0.396987, 'K39': 0.26...  \n",
       "4  {'F19': 1.19531, 'Na23': 0.396987, 'K39': 0.26...  "
      ]
     },
     "execution_count": 3,
     "metadata": {},
     "output_type": "execute_result"
    }
   ],
   "source": [
    "df.head()"
   ]
  },
  {
   "cell_type": "code",
   "execution_count": 5,
   "id": "57e0f37a-b74a-4985-8c52-52eb2602fc28",
   "metadata": {},
   "outputs": [],
   "source": [
    "import ast  # for safely evaluating strings containing Python expressions\n",
    "\n",
    "df[\"fuel_density_half_life\"] = df[\"fuel_density_half_life\"].apply(ast.literal_eval)"
   ]
  },
  {
   "cell_type": "code",
   "execution_count": 30,
   "id": "8a3f8830-f66e-4f5a-aa8d-c9108ab165db",
   "metadata": {},
   "outputs": [],
   "source": [
    "fuel_value = df[\"fuel_density_half_life\"]"
   ]
  },
  {
   "cell_type": "code",
   "execution_count": 31,
   "id": "af407bd0-a70d-4c57-8f64-754d3bd7c7ba",
   "metadata": {},
   "outputs": [],
   "source": [
    "# Simple random sampling of 10000 rows\n",
    "# fuel_value_sample = fuel_value.sample(n=10000)\n",
    "fuel_value_sample = fuel_value"
   ]
  },
  {
   "cell_type": "code",
   "execution_count": 32,
   "id": "74625377-bcf5-49d5-86cd-a2a9269b7717",
   "metadata": {},
   "outputs": [
    {
     "data": {
      "text/plain": [
       "0         {'F19': 1.19531, 'Na23': 0.396987, 'K39': 0.26...\n",
       "1         {'F19': 1.19531, 'Na23': 0.396987, 'K39': 0.26...\n",
       "2         {'F19': 1.19531, 'Na23': 0.396987, 'K39': 0.26...\n",
       "3         {'F19': 1.19531, 'Na23': 0.396987, 'K39': 0.26...\n",
       "4         {'F19': 1.19531, 'Na23': 0.396987, 'K39': 0.26...\n",
       "                                ...                        \n",
       "860995    {'H1': 3.88216e-06, 'H2': 2.0856e-08, 'H3': 0....\n",
       "860996    {'H1': 3.8823e-06, 'H2': 2.09909e-08, 'H3': 0....\n",
       "860997    {'H1': 3.89707e-06, 'H2': 2.10247e-08, 'H3': 0...\n",
       "860998    {'H1': 3.88554e-06, 'H2': 2.0904e-08, 'H3': 0....\n",
       "860999    {'H1': 3.8771e-06, 'H2': 2.08943e-08, 'H3': 0....\n",
       "Name: fuel_density_half_life, Length: 861000, dtype: object"
      ]
     },
     "execution_count": 32,
     "metadata": {},
     "output_type": "execute_result"
    }
   ],
   "source": [
    "fuel_value_sample"
   ]
  },
  {
   "cell_type": "code",
   "execution_count": 33,
   "id": "a1eb40ef-91ae-46d5-a1f8-0239e181e203",
   "metadata": {},
   "outputs": [
    {
     "name": "stderr",
     "output_type": "stream",
     "text": [
      "/tmp/ipykernel_1927099/746124126.py:15: SettingWithCopyWarning: \n",
      "A value is trying to be set on a copy of a slice from a DataFrame\n",
      "\n",
      "See the caveats in the documentation: https://pandas.pydata.org/pandas-docs/stable/user_guide/indexing.html#returning-a-view-versus-a-copy\n",
      "  (fuel_value_sample['key1'], fuel_value_sample['value1'],\n"
     ]
    }
   ],
   "source": [
    "def get_top_3_with_values(x):\n",
    "    # Assuming x is already a dictionary\n",
    "    if isinstance(x, dict):\n",
    "        sorted_items = sorted(x.items(), key=lambda item: item[1], reverse=True)\n",
    "        return (\n",
    "            sorted_items[0][0], sorted_items[0][1],  # first key and value\n",
    "            sorted_items[1][0], sorted_items[1][1],  # second key and value\n",
    "            sorted_items[2][0], sorted_items[2][1]   # third key and value\n",
    "        )\n",
    "    else:\n",
    "        # Handle the case where x is not a dictionary\n",
    "        raise TypeError(\"Input must be a dictionary\")\n",
    "\n",
    "\n",
    "(fuel_value_sample['key1'], fuel_value_sample['value1'], \n",
    " fuel_value_sample['key2'], fuel_value_sample['value2'],\n",
    " fuel_value_sample['key3'], fuel_value_sample['value3']) = zip(*fuel_value_sample.apply(get_top_3_with_values))"
   ]
  },
  {
   "cell_type": "code",
   "execution_count": 34,
   "id": "82adafbd-a8bf-4c8e-b012-eed7ad63d6d6",
   "metadata": {},
   "outputs": [
    {
     "name": "stdout",
     "output_type": "stream",
     "text": [
      "Value counts of maximum isotopes:\n",
      "Counter({'Zr96': 723240, 'U238': 137760})\n"
     ]
    }
   ],
   "source": [
    "from collections import Counter\n",
    "isotope_counts = Counter(fuel_value_sample['key1'])\n",
    "print(\"Value counts of maximum isotopes:\")\n",
    "print(isotope_counts)"
   ]
  },
  {
   "cell_type": "code",
   "execution_count": 35,
   "id": "d6cafc4d-13b9-480a-af8f-679d3ffcf842",
   "metadata": {},
   "outputs": [
    {
     "name": "stdout",
     "output_type": "stream",
     "text": [
      "Value counts of maximum isotopes:\n",
      "Counter({'Mo100': 711760, 'U235': 103320, 'Zr96': 34440, 'U238': 11480})\n"
     ]
    }
   ],
   "source": [
    "from collections import Counter\n",
    "isotope_counts = Counter(fuel_value['key2'])\n",
    "print(\"Value counts of maximum isotopes:\")\n",
    "print(isotope_counts)"
   ]
  },
  {
   "cell_type": "code",
   "execution_count": 36,
   "id": "5afa2169-bde9-406a-81c7-049bca8231b9",
   "metadata": {},
   "outputs": [
    {
     "name": "stdout",
     "output_type": "stream",
     "text": [
      "Value counts of maximum isotopes:\n",
      "Counter({'Nd150': 688800, 'Zr96': 80360, 'Mo100': 34440, 'K40': 22960, 'U238': 22960, 'U235': 11480})\n"
     ]
    }
   ],
   "source": [
    "from collections import Counter\n",
    "isotope_counts = Counter(fuel_value['key3'])\n",
    "print(\"Value counts of maximum isotopes:\")\n",
    "print(isotope_counts)"
   ]
  },
  {
   "cell_type": "code",
   "execution_count": null,
   "id": "0caf1184-f5f8-4af8-8d88-75c011dd81ed",
   "metadata": {},
   "outputs": [],
   "source": []
  }
 ],
 "metadata": {
  "kernelspec": {
   "display_name": "Python 3 (ipykernel)",
   "language": "python",
   "name": "python3"
  },
  "language_info": {
   "codemirror_mode": {
    "name": "ipython",
    "version": 3
   },
   "file_extension": ".py",
   "mimetype": "text/x-python",
   "name": "python",
   "nbconvert_exporter": "python",
   "pygments_lexer": "ipython3",
   "version": "3.11.7"
  }
 },
 "nbformat": 4,
 "nbformat_minor": 5
}
