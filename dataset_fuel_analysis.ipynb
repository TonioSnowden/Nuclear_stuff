{
 "cells": [
  {
   "cell_type": "code",
   "execution_count": 1,
   "id": "adb6c59e-69e1-4dcb-ba41-625218e0da0d",
   "metadata": {},
   "outputs": [],
   "source": [
    "import pandas as pd\n",
    "import ast\n",
    "\n",
    "df = pd.read_csv('df_converted_fuel.csv')\n",
    "df[\"fuel_value\"] = df[\"fuel_value\"].apply(ast.literal_eval)"
   ]
  },
  {
   "cell_type": "code",
   "execution_count": 2,
   "id": "a7180ff1-2e55-4043-b006-93da12da1315",
   "metadata": {},
   "outputs": [
    {
     "data": {
      "text/html": [
       "<div>\n",
       "<style scoped>\n",
       "    .dataframe tbody tr th:only-of-type {\n",
       "        vertical-align: middle;\n",
       "    }\n",
       "\n",
       "    .dataframe tbody tr th {\n",
       "        vertical-align: top;\n",
       "    }\n",
       "\n",
       "    .dataframe thead th {\n",
       "        text-align: right;\n",
       "    }\n",
       "</style>\n",
       "<table border=\"1\" class=\"dataframe\">\n",
       "  <thead>\n",
       "    <tr style=\"text-align: right;\">\n",
       "      <th></th>\n",
       "      <th>IE</th>\n",
       "      <th>BU</th>\n",
       "      <th>CT</th>\n",
       "      <th>FMI</th>\n",
       "      <th>fuel_TOT_GS</th>\n",
       "      <th>fuel_TOT_DH</th>\n",
       "      <th>fuel_TOT_A</th>\n",
       "      <th>AN</th>\n",
       "      <th>SF</th>\n",
       "      <th>fuel_value</th>\n",
       "    </tr>\n",
       "  </thead>\n",
       "  <tbody>\n",
       "    <tr>\n",
       "      <th>0</th>\n",
       "      <td>10.0</td>\n",
       "      <td>0.0</td>\n",
       "      <td>0.0</td>\n",
       "      <td>0</td>\n",
       "      <td>1.794450e+12</td>\n",
       "      <td>9.92946</td>\n",
       "      <td>1.285680e+13</td>\n",
       "      <td>0.8384</td>\n",
       "      <td>0.02793</td>\n",
       "      <td>{'F19': 1.19531, 'Na23': 0.396987, 'K39': 0.26...</td>\n",
       "    </tr>\n",
       "    <tr>\n",
       "      <th>1</th>\n",
       "      <td>10.0</td>\n",
       "      <td>0.0</td>\n",
       "      <td>0.0</td>\n",
       "      <td>1</td>\n",
       "      <td>1.794450e+12</td>\n",
       "      <td>9.92946</td>\n",
       "      <td>1.285680e+13</td>\n",
       "      <td>0.8384</td>\n",
       "      <td>0.02793</td>\n",
       "      <td>{'F19': 1.19531, 'Na23': 0.396987, 'K39': 0.26...</td>\n",
       "    </tr>\n",
       "    <tr>\n",
       "      <th>2</th>\n",
       "      <td>10.0</td>\n",
       "      <td>0.0</td>\n",
       "      <td>0.0</td>\n",
       "      <td>2</td>\n",
       "      <td>1.794450e+12</td>\n",
       "      <td>9.92946</td>\n",
       "      <td>1.285680e+13</td>\n",
       "      <td>0.8384</td>\n",
       "      <td>0.02793</td>\n",
       "      <td>{'F19': 1.19531, 'Na23': 0.396987, 'K39': 0.26...</td>\n",
       "    </tr>\n",
       "    <tr>\n",
       "      <th>3</th>\n",
       "      <td>10.0</td>\n",
       "      <td>0.0</td>\n",
       "      <td>0.0</td>\n",
       "      <td>3</td>\n",
       "      <td>1.794450e+12</td>\n",
       "      <td>9.92946</td>\n",
       "      <td>1.285680e+13</td>\n",
       "      <td>0.8384</td>\n",
       "      <td>0.02793</td>\n",
       "      <td>{'F19': 1.19531, 'Na23': 0.396987, 'K39': 0.26...</td>\n",
       "    </tr>\n",
       "    <tr>\n",
       "      <th>4</th>\n",
       "      <td>10.0</td>\n",
       "      <td>0.0</td>\n",
       "      <td>0.0</td>\n",
       "      <td>4</td>\n",
       "      <td>1.794450e+12</td>\n",
       "      <td>9.92946</td>\n",
       "      <td>1.285680e+13</td>\n",
       "      <td>0.8384</td>\n",
       "      <td>0.02793</td>\n",
       "      <td>{'F19': 1.19531, 'Na23': 0.396987, 'K39': 0.26...</td>\n",
       "    </tr>\n",
       "  </tbody>\n",
       "</table>\n",
       "</div>"
      ],
      "text/plain": [
       "     IE   BU   CT  FMI   fuel_TOT_GS  fuel_TOT_DH    fuel_TOT_A      AN  \\\n",
       "0  10.0  0.0  0.0    0  1.794450e+12      9.92946  1.285680e+13  0.8384   \n",
       "1  10.0  0.0  0.0    1  1.794450e+12      9.92946  1.285680e+13  0.8384   \n",
       "2  10.0  0.0  0.0    2  1.794450e+12      9.92946  1.285680e+13  0.8384   \n",
       "3  10.0  0.0  0.0    3  1.794450e+12      9.92946  1.285680e+13  0.8384   \n",
       "4  10.0  0.0  0.0    4  1.794450e+12      9.92946  1.285680e+13  0.8384   \n",
       "\n",
       "        SF                                         fuel_value  \n",
       "0  0.02793  {'F19': 1.19531, 'Na23': 0.396987, 'K39': 0.26...  \n",
       "1  0.02793  {'F19': 1.19531, 'Na23': 0.396987, 'K39': 0.26...  \n",
       "2  0.02793  {'F19': 1.19531, 'Na23': 0.396987, 'K39': 0.26...  \n",
       "3  0.02793  {'F19': 1.19531, 'Na23': 0.396987, 'K39': 0.26...  \n",
       "4  0.02793  {'F19': 1.19531, 'Na23': 0.396987, 'K39': 0.26...  "
      ]
     },
     "execution_count": 2,
     "metadata": {},
     "output_type": "execute_result"
    }
   ],
   "source": [
    "df.head()"
   ]
  },
  {
   "cell_type": "code",
   "execution_count": 3,
   "id": "f598fdcd-442c-499b-b8b7-5c78fe92f2e8",
   "metadata": {},
   "outputs": [],
   "source": [
    "import ast  # for safely evaluating strings containing Python expressions\n",
    "\n",
    "df[\"fuel_value\"] = df[\"fuel_value\"].apply(ast.literal_eval)"
   ]
  },
  {
   "cell_type": "code",
   "execution_count": 4,
   "id": "cdac7436-c5bd-4798-966b-3fc8fa58f43f",
   "metadata": {},
   "outputs": [],
   "source": [
    "fuel_value = df[\"fuel_value\"]"
   ]
  },
  {
   "cell_type": "code",
   "execution_count": 5,
   "id": "8fe2661f-d19e-4235-b398-62be39e69403",
   "metadata": {},
   "outputs": [
    {
     "data": {
      "text/plain": [
       "0         {'F19': 1.19531, 'Na23': 0.396987, 'K39': 0.26...\n",
       "1         {'F19': 1.19531, 'Na23': 0.396987, 'K39': 0.26...\n",
       "2         {'F19': 1.19531, 'Na23': 0.396987, 'K39': 0.26...\n",
       "3         {'F19': 1.19531, 'Na23': 0.396987, 'K39': 0.26...\n",
       "4         {'F19': 1.19531, 'Na23': 0.396987, 'K39': 0.26...\n",
       "                                ...                        \n",
       "860995    {'H1': 3.88216e-06, 'H2': 2.0856e-08, 'H3': 2....\n",
       "860996    {'H1': 3.8823e-06, 'H2': 2.09909e-08, 'H3': 2....\n",
       "860997    {'H1': 3.89707e-06, 'H2': 2.10247e-08, 'H3': 2...\n",
       "860998    {'H1': 3.88554e-06, 'H2': 2.0904e-08, 'H3': 2....\n",
       "860999    {'H1': 3.8771e-06, 'H2': 2.08943e-08, 'H3': 2....\n",
       "Name: fuel_value, Length: 861000, dtype: object"
      ]
     },
     "execution_count": 5,
     "metadata": {},
     "output_type": "execute_result"
    }
   ],
   "source": [
    "fuel_value"
   ]
  },
  {
   "cell_type": "code",
   "execution_count": null,
   "id": "e969d095-a81d-4d2f-bd5e-36f17793b876",
   "metadata": {},
   "outputs": [],
   "source": [
    "fuel_value['highest_key'], fuel_value['highest_value'] = zip(*fuel_value.apply(lambda x: max(x.items(), key=lambda item: item[1])))"
   ]
  },
  {
   "cell_type": "code",
   "execution_count": 20,
   "id": "0a87cd74-570f-48c8-8ea1-e03eb5db7a3e",
   "metadata": {},
   "outputs": [
    {
     "name": "stderr",
     "output_type": "stream",
     "text": [
      "/tmp/ipykernel_2275079/3641392396.py:9: SettingWithCopyWarning: \n",
      "A value is trying to be set on a copy of a slice from a DataFrame\n",
      "\n",
      "See the caveats in the documentation: https://pandas.pydata.org/pandas-docs/stable/user_guide/indexing.html#returning-a-view-versus-a-copy\n",
      "  (fuel_value['key1'], fuel_value['value1'],\n"
     ]
    }
   ],
   "source": [
    "def get_top_3_with_values(x):\n",
    "    sorted_items = sorted(x.items(), key=lambda item: item[1], reverse=True)\n",
    "    return (\n",
    "        sorted_items[0][0], sorted_items[0][1],  # first key and value\n",
    "        sorted_items[1][0], sorted_items[1][1],  # second key and value\n",
    "        sorted_items[2][0], sorted_items[2][1]   # third key and value\n",
    "    )\n",
    "\n",
    "(fuel_value['key1'], fuel_value['value1'], \n",
    " fuel_value['key2'], fuel_value['value2'],\n",
    " fuel_value['key3'], fuel_value['value3']) = zip(*fuel_value.apply(get_top_3_with_values))"
   ]
  },
  {
   "cell_type": "code",
   "execution_count": 21,
   "id": "ffdd8553-231d-469f-8228-6ff17e8d4f3f",
   "metadata": {},
   "outputs": [
    {
     "name": "stdout",
     "output_type": "stream",
     "text": [
      "Value counts of maximum isotopes:\n",
      "Counter({'U238': 861000})\n"
     ]
    }
   ],
   "source": [
    "from collections import Counter\n",
    "isotope_counts = Counter(fuel_value['key1'])\n",
    "print(\"Value counts of maximum isotopes:\")\n",
    "print(isotope_counts)"
   ]
  },
  {
   "cell_type": "code",
   "execution_count": 22,
   "id": "b6822a04-12c2-4c38-a8af-084bf02875ab",
   "metadata": {},
   "outputs": [
    {
     "name": "stdout",
     "output_type": "stream",
     "text": [
      "Value counts of maximum isotopes:\n",
      "Counter({'F19': 861000})\n"
     ]
    }
   ],
   "source": [
    "from collections import Counter\n",
    "isotope_counts = Counter(fuel_value['key2'])\n",
    "print(\"Value counts of maximum isotopes:\")\n",
    "print(isotope_counts)"
   ]
  },
  {
   "cell_type": "code",
   "execution_count": 23,
   "id": "3214d78c-d903-4975-8b7f-a5b8cfb5cfe4",
   "metadata": {},
   "outputs": [
    {
     "name": "stdout",
     "output_type": "stream",
     "text": [
      "Value counts of maximum isotopes:\n",
      "Counter({'Na23': 749560, 'U235': 111440})\n"
     ]
    }
   ],
   "source": [
    "from collections import Counter\n",
    "isotope_counts = Counter(fuel_value['key3'])\n",
    "print(\"Value counts of maximum isotopes:\")\n",
    "print(isotope_counts)"
   ]
  }
 ],
 "metadata": {
  "kernelspec": {
   "display_name": "Python 3 (ipykernel)",
   "language": "python",
   "name": "python3"
  },
  "language_info": {
   "codemirror_mode": {
    "name": "ipython",
    "version": 3
   },
   "file_extension": ".py",
   "mimetype": "text/x-python",
   "name": "python",
   "nbconvert_exporter": "python",
   "pygments_lexer": "ipython3",
   "version": "3.11.7"
  }
 },
 "nbformat": 4,
 "nbformat_minor": 5
}
