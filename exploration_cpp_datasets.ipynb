{
 "cells": [
  {
   "cell_type": "code",
   "execution_count": 1,
   "metadata": {},
   "outputs": [
    {
     "name": "stdout",
     "output_type": "stream",
     "text": [
      "Successfully read: Cpp_experiment/U238_source/particle_times_output.csv\n",
      "Successfully read: Cpp_experiment/Pu238_source/particle_times_output.csv\n",
      "Successfully read: Cpp_experiment/CF_252_source/particle_times_output.csv\n",
      "Successfully read: Cpp_experiment/Pu240_source/particle_times_output.csv\n",
      "Successfully read: Cpp_experiment/CF_250_source/particle_times_output.csv\n",
      "Successfully read: Cpp_experiment/Pu242_source/particle_times_output.csv\n",
      "Successfully read: Cpp_experiment/U235_source/particle_times_output.csv\n",
      "Successfully read: Cpp_experiment/Pu239_source/particle_times_output.csv\n",
      "\n",
      "Combined dataset saved to: combined_particle_times.csv\n",
      "Total number of files processed: 8\n",
      "Total number of rows in combined dataset: 4170\n"
     ]
    }
   ],
   "source": [
    "import pandas as pd\n",
    "import glob\n",
    "import os\n",
    "import numpy as np\n",
    "\n",
    "# Path to search for CSV files\n",
    "base_path = 'Cpp_experiment'\n",
    "\n",
    "# Find all particle_times_output.csv files in subfolders\n",
    "csv_files = glob.glob(os.path.join(base_path, '**', 'particle_times_output.csv'), recursive=True)\n",
    "\n",
    "# Create an empty list to store dataframes\n",
    "dfs = []\n",
    "\n",
    "# Read each CSV file and add it to the list\n",
    "for file_path in csv_files:\n",
    "    try:\n",
    "        # Read the CSV file\n",
    "        df = pd.read_csv(file_path)\n",
    "        \n",
    "        # Add a column to identify which file this data came from\n",
    "        folder_name = os.path.dirname(file_path).split('/')[-1]  # Get the immediate parent folder name\n",
    "        \n",
    "        dfs.append(df)\n",
    "        print(f\"Successfully read: {file_path}\")\n",
    "    except Exception as e:\n",
    "        print(f\"Error reading {file_path}: {str(e)}\")\n",
    "\n",
    "if dfs:\n",
    "    # Combine all dataframes\n",
    "    combined_df = pd.concat(dfs, ignore_index=True)\n",
    "    \n",
    "    # Save the combined dataset\n",
    "    output_path = 'combined_particle_times.csv'\n",
    "    combined_df.to_csv(output_path, index=False)\n",
    "    print(f\"\\nCombined dataset saved to: {output_path}\")\n",
    "    print(f\"Total number of files processed: {len(dfs)}\")\n",
    "    print(f\"Total number of rows in combined dataset: {len(combined_df)}\")\n",
    "else:\n",
    "    print(\"No CSV files were found or successfully processed.\")"
   ]
  },
  {
   "cell_type": "code",
   "execution_count": 2,
   "metadata": {},
   "outputs": [
    {
     "data": {
      "text/html": [
       "<div>\n",
       "<style scoped>\n",
       "    .dataframe tbody tr th:only-of-type {\n",
       "        vertical-align: middle;\n",
       "    }\n",
       "\n",
       "    .dataframe tbody tr th {\n",
       "        vertical-align: top;\n",
       "    }\n",
       "\n",
       "    .dataframe thead th {\n",
       "        text-align: right;\n",
       "    }\n",
       "</style>\n",
       "<table border=\"1\" class=\"dataframe\">\n",
       "  <thead>\n",
       "    <tr style=\"text-align: right;\">\n",
       "      <th></th>\n",
       "      <th>source_file</th>\n",
       "      <th>fuel_density</th>\n",
       "      <th>coolant_density</th>\n",
       "      <th>radius</th>\n",
       "      <th>particle_times</th>\n",
       "    </tr>\n",
       "  </thead>\n",
       "  <tbody>\n",
       "    <tr>\n",
       "      <th>0</th>\n",
       "      <td>u238sourceair.py</td>\n",
       "      <td>18.6</td>\n",
       "      <td>0.001</td>\n",
       "      <td>0.1</td>\n",
       "      <td>[2.37808510e-08 3.18942892e-06 4.47266153e-08 ...</td>\n",
       "    </tr>\n",
       "    <tr>\n",
       "      <th>1</th>\n",
       "      <td>u238sourceair.py</td>\n",
       "      <td>18.6</td>\n",
       "      <td>0.001</td>\n",
       "      <td>0.2</td>\n",
       "      <td>[4.75617020e-08 3.18942892e-06 8.94532306e-08 ...</td>\n",
       "    </tr>\n",
       "    <tr>\n",
       "      <th>2</th>\n",
       "      <td>u238sourceair.py</td>\n",
       "      <td>18.6</td>\n",
       "      <td>0.001</td>\n",
       "      <td>0.3</td>\n",
       "      <td>[5.30506830e-08 7.66694967e-08 2.46003902e-06 ...</td>\n",
       "    </tr>\n",
       "    <tr>\n",
       "      <th>3</th>\n",
       "      <td>u238sourceair.py</td>\n",
       "      <td>18.6</td>\n",
       "      <td>0.001</td>\n",
       "      <td>0.4</td>\n",
       "      <td>[5.30506830e-08 1.03605771e-07 2.46003902e-06 ...</td>\n",
       "    </tr>\n",
       "    <tr>\n",
       "      <th>4</th>\n",
       "      <td>u238sourceair.py</td>\n",
       "      <td>18.6</td>\n",
       "      <td>0.001</td>\n",
       "      <td>0.5</td>\n",
       "      <td>[5.30506830e-08 1.29119529e-07 2.46003902e-06 ...</td>\n",
       "    </tr>\n",
       "  </tbody>\n",
       "</table>\n",
       "</div>"
      ],
      "text/plain": [
       "        source_file  fuel_density  coolant_density  radius  \\\n",
       "0  u238sourceair.py          18.6            0.001     0.1   \n",
       "1  u238sourceair.py          18.6            0.001     0.2   \n",
       "2  u238sourceair.py          18.6            0.001     0.3   \n",
       "3  u238sourceair.py          18.6            0.001     0.4   \n",
       "4  u238sourceair.py          18.6            0.001     0.5   \n",
       "\n",
       "                                      particle_times  \n",
       "0  [2.37808510e-08 3.18942892e-06 4.47266153e-08 ...  \n",
       "1  [4.75617020e-08 3.18942892e-06 8.94532306e-08 ...  \n",
       "2  [5.30506830e-08 7.66694967e-08 2.46003902e-06 ...  \n",
       "3  [5.30506830e-08 1.03605771e-07 2.46003902e-06 ...  \n",
       "4  [5.30506830e-08 1.29119529e-07 2.46003902e-06 ...  "
      ]
     },
     "execution_count": 2,
     "metadata": {},
     "output_type": "execute_result"
    }
   ],
   "source": [
    "combined_df.head()"
   ]
  },
  {
   "cell_type": "code",
   "execution_count": 6,
   "metadata": {},
   "outputs": [
    {
     "name": "stdout",
     "output_type": "stream",
     "text": [
      "source_file         object\n",
      "fuel_density       float64\n",
      "coolant_density    float64\n",
      "radius             float64\n",
      "particle_times      object\n",
      "dtype: object\n"
     ]
    }
   ],
   "source": [
    "#print columns type\n",
    "print(combined_df.dtypes)"
   ]
  },
  {
   "cell_type": "code",
   "execution_count": 7,
   "metadata": {},
   "outputs": [
    {
     "data": {
      "text/html": [
       "<div>\n",
       "<style scoped>\n",
       "    .dataframe tbody tr th:only-of-type {\n",
       "        vertical-align: middle;\n",
       "    }\n",
       "\n",
       "    .dataframe tbody tr th {\n",
       "        vertical-align: top;\n",
       "    }\n",
       "\n",
       "    .dataframe thead th {\n",
       "        text-align: right;\n",
       "    }\n",
       "</style>\n",
       "<table border=\"1\" class=\"dataframe\">\n",
       "  <thead>\n",
       "    <tr style=\"text-align: right;\">\n",
       "      <th></th>\n",
       "      <th>isotopes</th>\n",
       "      <th>particle_times</th>\n",
       "    </tr>\n",
       "  </thead>\n",
       "  <tbody>\n",
       "    <tr>\n",
       "      <th>0</th>\n",
       "      <td>U238</td>\n",
       "      <td>[2.37808510e-08 3.18942892e-06 4.47266153e-08 ...</td>\n",
       "    </tr>\n",
       "    <tr>\n",
       "      <th>1</th>\n",
       "      <td>U238</td>\n",
       "      <td>[4.75617020e-08 3.18942892e-06 8.94532306e-08 ...</td>\n",
       "    </tr>\n",
       "    <tr>\n",
       "      <th>2</th>\n",
       "      <td>U238</td>\n",
       "      <td>[5.30506830e-08 7.66694967e-08 2.46003902e-06 ...</td>\n",
       "    </tr>\n",
       "    <tr>\n",
       "      <th>3</th>\n",
       "      <td>U238</td>\n",
       "      <td>[5.30506830e-08 1.03605771e-07 2.46003902e-06 ...</td>\n",
       "    </tr>\n",
       "    <tr>\n",
       "      <th>4</th>\n",
       "      <td>U238</td>\n",
       "      <td>[5.30506830e-08 1.29119529e-07 2.46003902e-06 ...</td>\n",
       "    </tr>\n",
       "  </tbody>\n",
       "</table>\n",
       "</div>"
      ],
      "text/plain": [
       "  isotopes                                     particle_times\n",
       "0     U238  [2.37808510e-08 3.18942892e-06 4.47266153e-08 ...\n",
       "1     U238  [4.75617020e-08 3.18942892e-06 8.94532306e-08 ...\n",
       "2     U238  [5.30506830e-08 7.66694967e-08 2.46003902e-06 ...\n",
       "3     U238  [5.30506830e-08 1.03605771e-07 2.46003902e-06 ...\n",
       "4     U238  [5.30506830e-08 1.29119529e-07 2.46003902e-06 ..."
      ]
     },
     "execution_count": 7,
     "metadata": {},
     "output_type": "execute_result"
    }
   ],
   "source": [
    "# First convert source_file column to string type\n",
    "combined_df['source_file'] = combined_df['source_file'].astype(str)\n",
    "\n",
    "# Extract the isotope names using str accessor on the Series\n",
    "# Use str.extract() to get the pattern, then str.upper() to convert to uppercase\n",
    "combined_df['isotopes'] = combined_df['source_file'].str.extract(r'([a-zA-Z]+\\d+)', expand=False).str.upper()\n",
    "\n",
    "# Keep only the columns we want and reorder them\n",
    "columns_to_keep = ['isotopes', 'particle_times']\n",
    "combined_df = combined_df[columns_to_keep]\n",
    "\n",
    "# Display the first few rows to verify the changes\n",
    "combined_df.head()"
   ]
  },
  {
   "cell_type": "code",
   "execution_count": 15,
   "metadata": {},
   "outputs": [
    {
     "name": "stdout",
     "output_type": "stream",
     "text": [
      "First row particle times:\n",
      "[2.3780851e-08, 3.18942892e-06, 4.47266153e-08, 1.30424059e-05, 3.4852825e-08]\n",
      "\n",
      "Type of the first element: <class 'list'>\n"
     ]
    }
   ],
   "source": [
    "import ast\n",
    "import numpy as np\n",
    "\n",
    "# Function to safely convert string representation of array to list of floats\n",
    "def convert_to_float_list(x):\n",
    "    try:\n",
    "        # Remove the newline characters and extra spaces\n",
    "        x = x.replace('\\n', ' ').strip()\n",
    "        # Convert string to numpy array then to list\n",
    "        # Handle the case where there are ellipsis (...) in the string\n",
    "        if '...' in x:\n",
    "            # Split by spaces and filter out the ellipsis\n",
    "            numbers = [num for num in x.strip('[]').split() if num != '...']\n",
    "            return [float(num) for num in numbers]\n",
    "        else:\n",
    "            # If no ellipsis, convert directly\n",
    "            return [float(num) for num in x.strip('[]').split()]\n",
    "    except:\n",
    "        return []\n",
    "\n",
    "# Apply the conversion\n",
    "combined_df['particle_times'] = combined_df['particle_times'].apply(convert_to_float_list)\n",
    "\n",
    "# Verify the result\n",
    "print(\"First row particle times:\")\n",
    "print(combined_df['particle_times'].iloc[0][:5])  # Print first 5 elements to verify\n",
    "print(\"\\nType of the first element:\", type(combined_df['particle_times'].iloc[0]))"
   ]
  },
  {
   "cell_type": "code",
   "execution_count": 18,
   "metadata": {},
   "outputs": [
    {
     "data": {
      "text/plain": [
       "[2.3780851e-08,\n",
       " 3.18942892e-06,\n",
       " 4.47266153e-08,\n",
       " 1.30424059e-05,\n",
       " 3.4852825e-08,\n",
       " 4.34508841e-06]"
      ]
     },
     "execution_count": 18,
     "metadata": {},
     "output_type": "execute_result"
    }
   ],
   "source": [
    "combined_df['particle_times'][0]"
   ]
  },
  {
   "cell_type": "code",
   "execution_count": 19,
   "metadata": {},
   "outputs": [
    {
     "data": {
      "text/html": [
       "<div>\n",
       "<style scoped>\n",
       "    .dataframe tbody tr th:only-of-type {\n",
       "        vertical-align: middle;\n",
       "    }\n",
       "\n",
       "    .dataframe tbody tr th {\n",
       "        vertical-align: top;\n",
       "    }\n",
       "\n",
       "    .dataframe thead th {\n",
       "        text-align: right;\n",
       "    }\n",
       "</style>\n",
       "<table border=\"1\" class=\"dataframe\">\n",
       "  <thead>\n",
       "    <tr style=\"text-align: right;\">\n",
       "      <th></th>\n",
       "      <th>isotopes</th>\n",
       "      <th>particle_times</th>\n",
       "    </tr>\n",
       "  </thead>\n",
       "  <tbody>\n",
       "    <tr>\n",
       "      <th>0</th>\n",
       "      <td>U238</td>\n",
       "      <td>[2.3780851e-08, 3.18942892e-06, 4.47266153e-08...</td>\n",
       "    </tr>\n",
       "    <tr>\n",
       "      <th>1</th>\n",
       "      <td>U238</td>\n",
       "      <td>[4.7561702e-08, 3.18942892e-06, 8.94532306e-08...</td>\n",
       "    </tr>\n",
       "    <tr>\n",
       "      <th>2</th>\n",
       "      <td>U238</td>\n",
       "      <td>[5.3050683e-08, 7.66694967e-08, 2.46003902e-06...</td>\n",
       "    </tr>\n",
       "    <tr>\n",
       "      <th>3</th>\n",
       "      <td>U238</td>\n",
       "      <td>[5.3050683e-08, 1.03605771e-07, 2.46003902e-06...</td>\n",
       "    </tr>\n",
       "    <tr>\n",
       "      <th>4</th>\n",
       "      <td>U238</td>\n",
       "      <td>[5.3050683e-08, 1.29119529e-07, 2.46003902e-06...</td>\n",
       "    </tr>\n",
       "  </tbody>\n",
       "</table>\n",
       "</div>"
      ],
      "text/plain": [
       "  isotopes                                     particle_times\n",
       "0     U238  [2.3780851e-08, 3.18942892e-06, 4.47266153e-08...\n",
       "1     U238  [4.7561702e-08, 3.18942892e-06, 8.94532306e-08...\n",
       "2     U238  [5.3050683e-08, 7.66694967e-08, 2.46003902e-06...\n",
       "3     U238  [5.3050683e-08, 1.03605771e-07, 2.46003902e-06...\n",
       "4     U238  [5.3050683e-08, 1.29119529e-07, 2.46003902e-06..."
      ]
     },
     "execution_count": 19,
     "metadata": {},
     "output_type": "execute_result"
    }
   ],
   "source": [
    "combined_df.head()"
   ]
  },
  {
   "cell_type": "code",
   "execution_count": 21,
   "metadata": {},
   "outputs": [
    {
     "name": "stdout",
     "output_type": "stream",
     "text": [
      "Distribution of particle times array lengths:\n",
      "particle_times_length\n",
      "6    4170\n",
      "Name: count, dtype: int64\n",
      "\n",
      "Summary statistics of array lengths:\n",
      "Mean length: 6.00\n",
      "Min length: 6\n",
      "Max length: 6\n"
     ]
    }
   ],
   "source": [
    "# Create a new column with the length of each particle_times array\n",
    "combined_df['particle_times_length'] = combined_df['particle_times'].apply(len)\n",
    "\n",
    "# Get value counts of the lengths\n",
    "length_counts = combined_df['particle_times_length'].value_counts().sort_index()\n",
    "\n",
    "print(\"Distribution of particle times array lengths:\")\n",
    "print(length_counts)\n",
    "\n",
    "# Optional: Add some basic statistics\n",
    "print(\"\\nSummary statistics of array lengths:\")\n",
    "print(f\"Mean length: {combined_df['particle_times_length'].mean():.2f}\")\n",
    "print(f\"Min length: {combined_df['particle_times_length'].min()}\")\n",
    "print(f\"Max length: {combined_df['particle_times_length'].max()}\")"
   ]
  },
  {
   "cell_type": "code",
   "execution_count": 20,
   "metadata": {},
   "outputs": [
    {
     "name": "stdout",
     "output_type": "stream",
     "text": [
      "Original times:\n",
      "[2.3780851e-08, 3.18942892e-06, 4.47266153e-08, 1.30424059e-05, 3.4852825e-08, 4.34508841e-06]\n",
      "\n",
      "Jittered times:\n",
      "[2.5544028743659276e-08, 3.294172446090311e-06, 4.5067501193098855e-08, 1.2409648267476903e-05, 3.3744576097502e-08, 4.528605715598786e-06]\n"
     ]
    }
   ],
   "source": [
    "import numpy as np\n",
    "\n",
    "# Function to add jitter to a list of times\n",
    "def add_jitter(times, relative_noise_level=0.05):\n",
    "    \"\"\"\n",
    "    Add Gaussian noise to each time measurement\n",
    "    \n",
    "    Parameters:\n",
    "    times: list of time measurements\n",
    "    relative_noise_level: standard deviation of the noise as a fraction of the value (default 5%)\n",
    "    \n",
    "    Returns:\n",
    "    List of jittered time measurements\n",
    "    \"\"\"\n",
    "    times = np.array(times)\n",
    "    # Generate noise with standard deviation proportional to each value\n",
    "    noise = np.random.normal(0, times * relative_noise_level, size=times.shape)\n",
    "    # Add noise while ensuring times remain positive\n",
    "    jittered_times = np.maximum(times + noise, 0)\n",
    "    return jittered_times.tolist()\n",
    "\n",
    "# Add a new column with jittered times\n",
    "combined_df['jittered_particle_times'] = combined_df['particle_times'].apply(add_jitter)\n",
    "\n",
    "# To verify the jittering, let's print the first row's original and jittered times\n",
    "print(\"Original times:\")\n",
    "print(combined_df['particle_times'].iloc[0])\n",
    "print(\"\\nJittered times:\")\n",
    "print(combined_df['jittered_particle_times'].iloc[0])"
   ]
  }
 ],
 "metadata": {
  "kernelspec": {
   "display_name": "Python 3",
   "language": "python",
   "name": "python3"
  },
  "language_info": {
   "codemirror_mode": {
    "name": "ipython",
    "version": 3
   },
   "file_extension": ".py",
   "mimetype": "text/x-python",
   "name": "python",
   "nbconvert_exporter": "python",
   "pygments_lexer": "ipython3",
   "version": "3.11.1"
  }
 },
 "nbformat": 4,
 "nbformat_minor": 2
}
