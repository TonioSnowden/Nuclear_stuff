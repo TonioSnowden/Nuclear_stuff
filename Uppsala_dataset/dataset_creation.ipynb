{
 "cells": [
  {
   "cell_type": "code",
   "execution_count": 1,
   "id": "e14dcb90-25ae-4dfa-ad19-3e6372dfd0db",
   "metadata": {},
   "outputs": [],
   "source": [
    "import pandas as pd\n",
    "\n",
    "data_path = \"../../nuclear_data/cmsr_dataset_material_movement.h5\"\n",
    "df_base = pd.read_hdf(data_path)"
   ]
  },
  {
   "cell_type": "code",
   "execution_count": 4,
   "id": "c4f71808-ebc3-423b-b91f-28ee9be07134",
   "metadata": {},
   "outputs": [
    {
     "name": "stdout",
     "output_type": "stream",
     "text": [
      "Rankings saved to isotopes_ranking.csv\n",
      "\n",
      "Top 10 isotopes by median density:\n",
      "   rank     isotope        mean      median         std         max  \\\n",
      "0     1   fuel_U238  1.9239e+00  1.9233e+00  6.7318e-02  2.0492e+00   \n",
      "1     2    fuel_F19  1.1957e+00  1.1958e+00  2.5140e-04  1.1962e+00   \n",
      "2     3   fuel_Na23  3.9712e-01  3.9712e-01  8.9246e-05  3.9727e-01   \n",
      "3     4   fuel_U235  3.0937e-01  3.0949e-01  7.1019e-02  4.5039e-01   \n",
      "4     5    fuel_K39  2.6710e-01  2.6714e-01  1.4672e-04  2.6733e-01   \n",
      "5     6    fuel_K41  2.0266e-02  2.0267e-02  9.9569e-06  2.0282e-02   \n",
      "6     7  fuel_Pu239  7.5423e-03  6.8421e-03  6.8644e-03  2.0921e-02   \n",
      "7     8   fuel_U236  6.7960e-03  5.7703e-03  6.3745e-03  2.0120e-02   \n",
      "8     9   fuel_U234  2.9925e-03  2.9893e-03  6.8391e-04  4.3200e-03   \n",
      "9    10  fuel_Xe134  1.0694e-03  8.7044e-04  1.0201e-03  3.0390e-03   \n",
      "\n",
      "          min  \n",
      "0  1.7935e+00  \n",
      "1  1.1953e+00  \n",
      "2  3.9691e-01  \n",
      "3  1.5320e-01  \n",
      "4  2.6665e-01  \n",
      "5  2.0237e-02  \n",
      "6  0.0000e+00  \n",
      "7  0.0000e+00  \n",
      "8  1.6116e-03  \n",
      "9  0.0000e+00  \n"
     ]
    }
   ],
   "source": [
    "# Get all columns starting with 'fuel_'\n",
    "fuel_columns = [col for col in df_base.columns if col.startswith('fuel_')]\n",
    "fuel_columns = [col for col in fuel_columns if col not in ['fuel_TOT_GS', 'fuel_TOT_DH', 'fuel_TOT_A']]\n",
    "\n",
    "# Create a DataFrame with statistics for these columns\n",
    "stats_df = pd.DataFrame({\n",
    "    'mean': df_base[fuel_columns].mean(),\n",
    "    'median': df_base[fuel_columns].median(),\n",
    "    'std': df_base[fuel_columns].std(),\n",
    "    'max': df_base[fuel_columns].max(),\n",
    "    'min': df_base[fuel_columns].min()\n",
    "})\n",
    "\n",
    "# Sort by median and add a rank column\n",
    "sorted_stats = stats_df.sort_values('median', ascending=False).reset_index()\n",
    "sorted_stats = sorted_stats.rename(columns={'index': 'isotope'})\n",
    "sorted_stats.insert(0, 'rank', range(1, len(sorted_stats) + 1))\n",
    "\n",
    "# Format scientific notation with 4 decimal places\n",
    "for col in ['mean', 'median', 'std', 'max', 'min']:\n",
    "    sorted_stats[col] = sorted_stats[col].apply(lambda x: f'{x:.4e}')\n",
    "\n",
    "# Save to CSV\n",
    "output_path = 'isotopes_ranking.csv'\n",
    "sorted_stats.to_csv(output_path, index=False)\n",
    "\n",
    "print(f\"Rankings saved to {output_path}\")\n",
    "print(\"\\nTop 10 isotopes by median density:\")\n",
    "print(sorted_stats.head(10))"
   ]
  },
  {
   "cell_type": "code",
   "execution_count": null,
   "id": "ee773c66-fda4-4348-b31b-9cdf467b7f21",
   "metadata": {},
   "outputs": [],
   "source": [
    "import matplotlib.pyplot as plt\n",
    "import seaborn as sns\n",
    "\n",
    "# Create a box plot for the fuel columns (log scale)\n",
    "plt.figure(figsize=(15, 6))\n",
    "plt.yscale('log')\n",
    "df_base[fuel_columns].boxplot()\n",
    "plt.xticks(rotation=45, ha='right')\n",
    "plt.title('Distribution of Fuel Isotopes (Log Scale)')\n",
    "plt.ylabel('Density')\n",
    "plt.tight_layout()\n",
    "plt.show()"
   ]
  },
  {
   "cell_type": "code",
   "execution_count": 5,
   "id": "c6e9759e-2bd7-49a5-8ee2-762daacdcbd4",
   "metadata": {},
   "outputs": [],
   "source": [
    "# List of isotopes we want to keep\n",
    "sf_isotopes = ['U238', 'U235', 'Pu239', 'U236', 'U234']\n",
    "\n",
    "# Create list of column names to keep\n",
    "fuel_columns = ['fuel_' + isotope for isotope in sf_isotopes]\n",
    "additional_columns = ['AN', 'SF', 'fuel_TOT_GS', 'fuel_TOT_DH', 'fuel_TOT_A']\n",
    "columns_to_keep = fuel_columns + additional_columns\n",
    "\n",
    "# Create new dataframe with only selected columns\n",
    "df_filtered = df_base[columns_to_keep]"
   ]
  },
  {
   "cell_type": "code",
   "execution_count": 6,
   "id": "2b7e911c-5711-4c32-bf2c-a1f3358ff9ea",
   "metadata": {},
   "outputs": [],
   "source": [
    "df_shuffled = df_filtered.sample(frac=1, random_state=42).reset_index(drop=True)"
   ]
  },
  {
   "cell_type": "code",
   "execution_count": 7,
   "id": "05ed8772-57bb-4782-8fd8-5693ff07bb8f",
   "metadata": {},
   "outputs": [],
   "source": [
    "df_shuffled.to_csv('top10_nuclear.csv', index=False)"
   ]
  },
  {
   "cell_type": "code",
   "execution_count": 6,
   "id": "d4d1020e-c923-4ec4-9626-e3df393b966e",
   "metadata": {},
   "outputs": [
    {
     "ename": "ModuleNotFoundError",
     "evalue": "No module named 'openmc'",
     "output_type": "error",
     "traceback": [
      "\u001b[0;31m---------------------------------------------------------------------------\u001b[0m",
      "\u001b[0;31mModuleNotFoundError\u001b[0m                       Traceback (most recent call last)",
      "Cell \u001b[0;32mIn[6], line 1\u001b[0m\n\u001b[0;32m----> 1\u001b[0m \u001b[38;5;28;01mimport\u001b[39;00m \u001b[38;5;21;01mopenmc\u001b[39;00m\u001b[38;5;21;01m.\u001b[39;00m\u001b[38;5;21;01mdata\u001b[39;00m\n\u001b[1;32m      3\u001b[0m \u001b[38;5;66;03m# List of columns to convert\u001b[39;00m\n\u001b[1;32m      4\u001b[0m isotope_columns \u001b[38;5;241m=\u001b[39m [\n\u001b[1;32m      5\u001b[0m     \u001b[38;5;124m'\u001b[39m\u001b[38;5;124mfuel_U238\u001b[39m\u001b[38;5;124m'\u001b[39m, \u001b[38;5;124m'\u001b[39m\u001b[38;5;124mfuel_Pu236\u001b[39m\u001b[38;5;124m'\u001b[39m, \u001b[38;5;124m'\u001b[39m\u001b[38;5;124mfuel_Pu238\u001b[39m\u001b[38;5;124m'\u001b[39m, \u001b[38;5;124m'\u001b[39m\u001b[38;5;124mfuel_Pu239\u001b[39m\u001b[38;5;124m'\u001b[39m, \u001b[38;5;124m'\u001b[39m\u001b[38;5;124mfuel_Pu240\u001b[39m\u001b[38;5;124m'\u001b[39m,\n\u001b[1;32m      6\u001b[0m     \u001b[38;5;124m'\u001b[39m\u001b[38;5;124mfuel_Pu241\u001b[39m\u001b[38;5;124m'\u001b[39m, \u001b[38;5;124m'\u001b[39m\u001b[38;5;124mfuel_Pu242\u001b[39m\u001b[38;5;124m'\u001b[39m, \u001b[38;5;124m'\u001b[39m\u001b[38;5;124mfuel_Pu244\u001b[39m\u001b[38;5;124m'\u001b[39m, \u001b[38;5;124m'\u001b[39m\u001b[38;5;124mfuel_Am241\u001b[39m\u001b[38;5;124m'\u001b[39m, \u001b[38;5;124m'\u001b[39m\u001b[38;5;124mfuel_Cm242\u001b[39m\u001b[38;5;124m'\u001b[39m,\n\u001b[1;32m      7\u001b[0m     \u001b[38;5;124m'\u001b[39m\u001b[38;5;124mfuel_Cm244\u001b[39m\u001b[38;5;124m'\u001b[39m, \u001b[38;5;124m'\u001b[39m\u001b[38;5;124mfuel_Cm246\u001b[39m\u001b[38;5;124m'\u001b[39m, \u001b[38;5;124m'\u001b[39m\u001b[38;5;124mfuel_Cm248\u001b[39m\u001b[38;5;124m'\u001b[39m, \u001b[38;5;124m'\u001b[39m\u001b[38;5;124mfuel_Cm250\u001b[39m\u001b[38;5;124m'\u001b[39m, \u001b[38;5;124m'\u001b[39m\u001b[38;5;124mfuel_Bk249\u001b[39m\u001b[38;5;124m'\u001b[39m\n\u001b[1;32m      8\u001b[0m ]\n",
      "\u001b[0;31mModuleNotFoundError\u001b[0m: No module named 'openmc'"
     ]
    }
   ],
   "source": [
    "import openmc.data\n",
    "\n",
    "# List of columns to convert\n",
    "isotope_columns = [\n",
    "    'fuel_U238', 'fuel_Pu236', 'fuel_Pu238', 'fuel_Pu239', 'fuel_Pu240',\n",
    "    'fuel_Pu241', 'fuel_Pu242', 'fuel_Pu244', 'fuel_Am241', 'fuel_Cm242',\n",
    "    'fuel_Cm244', 'fuel_Cm246', 'fuel_Cm248', 'fuel_Cm250', 'fuel_Bk249'\n",
    "]\n",
    "\n",
    "# Function to get isotope name in OpenMC format\n",
    "def format_isotope_name(col_name):\n",
    "    # Remove 'fuel_' prefix and split element and mass number\n",
    "    isotope = col_name.replace('fuel_', '')\n",
    "    element = ''.join(filter(str.isalpha, isotope))\n",
    "    mass_number = ''.join(filter(str.isdigit, isotope))\n",
    "    return f\"{element}{mass_number}\"\n",
    "\n",
    "# Convert each column from density to mass\n",
    "for column in isotope_columns:\n",
    "    isotope = format_isotope_name(column)\n",
    "    atomic_mass = openmc.data.atomic_mass(isotope)\n",
    "    df_shuffled[column] = df_shuffled[column] * atomic_mass"
   ]
  },
  {
   "cell_type": "code",
   "execution_count": null,
   "id": "454911b3-b9b1-4298-9f1f-2740ad680fb8",
   "metadata": {},
   "outputs": [],
   "source": [
    "df_shuffled"
   ]
  },
  {
   "cell_type": "code",
   "execution_count": 5,
   "id": "3357bfc0-e658-435b-bab6-093ba718e753",
   "metadata": {},
   "outputs": [],
   "source": [
    "df_shuffled.to_csv('uppsala_neuralnet.csv', index=False)"
   ]
  },
  {
   "cell_type": "code",
   "execution_count": null,
   "id": "7c89cada-b2bb-4fb1-bd71-d0701778f925",
   "metadata": {},
   "outputs": [],
   "source": []
  }
 ],
 "metadata": {
  "kernelspec": {
   "display_name": "Python 3 (ipykernel)",
   "language": "python",
   "name": "python3"
  },
  "language_info": {
   "codemirror_mode": {
    "name": "ipython",
    "version": 3
   },
   "file_extension": ".py",
   "mimetype": "text/x-python",
   "name": "python",
   "nbconvert_exporter": "python",
   "pygments_lexer": "ipython3",
   "version": "3.11.7"
  }
 },
 "nbformat": 4,
 "nbformat_minor": 5
}
